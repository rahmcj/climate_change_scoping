{
 "cells": [
  {
   "cell_type": "code",
   "execution_count": 1,
   "id": "8b5aa1c0-3da4-4c6b-ae93-c5bdcfe34a8e",
   "metadata": {},
   "outputs": [],
   "source": [
    "# renaming humidity field to match subsequent processes for streamlit\n",
    "\n",
    "import pandas as pd\n",
    "import os\n",
    "\n",
    "# Directory containing the CSV files\n",
    "directory = r\"C:\\Users\\rache\\wind_data\\wind_data\\csv\\daily\"\n",
    "\n",
    "# New name\n",
    "new_name = 'Qair_f_inst'\n",
    "\n",
    "# Iterate over each CSV file in the directory\n",
    "for filename in os.listdir(directory):\n",
    "    if filename.endswith('.csv'):\n",
    "        filepath = os.path.join(directory, filename)\n",
    "        \n",
    "        \n",
    "        df = pd.read_csv(filepath)\n",
    "        \n",
    "        # Rename the column\n",
    "        df.rename(columns={'QLML': new_name}, inplace=True)\n",
    "        \n",
    "        # Save the DataFrame back to a CSV file\n",
    "        df.to_csv(filepath, index=False)"
   ]
  },
  {
   "cell_type": "code",
   "execution_count": null,
   "id": "2c2c3c24-15e3-4320-94a7-92ee42bd54ad",
   "metadata": {},
   "outputs": [],
   "source": []
  }
 ],
 "metadata": {
  "kernelspec": {
   "display_name": "Python 3 (ipykernel)",
   "language": "python",
   "name": "python3"
  },
  "language_info": {
   "codemirror_mode": {
    "name": "ipython",
    "version": 3
   },
   "file_extension": ".py",
   "mimetype": "text/x-python",
   "name": "python",
   "nbconvert_exporter": "python",
   "pygments_lexer": "ipython3",
   "version": "3.11.8"
  }
 },
 "nbformat": 4,
 "nbformat_minor": 5
}
